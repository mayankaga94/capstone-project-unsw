{
 "metadata": {
  "language_info": {
   "codemirror_mode": {
    "name": "ipython",
    "version": 3
   },
   "file_extension": ".py",
   "mimetype": "text/x-python",
   "name": "python",
   "nbconvert_exporter": "python",
   "pygments_lexer": "ipython3",
   "version": 3
  },
  "orig_nbformat": 2,
  "kernelspec": {
   "name": "python_defaultSpec_1595688003492",
   "display_name": "Python 3.7.4 64-bit ('base': conda)"
  }
 },
 "nbformat": 4,
 "nbformat_minor": 2,
 "cells": [
  {
   "cell_type": "markdown",
   "metadata": {},
   "source": [
    "## Part 1: Cleaning Books dataset\n",
    "___\n",
    "1. Remove columns we don't want.\n",
    "2. Remove rows that have NaN values.\n",
    "3. Remove rows with no image.\n",
    "4. Keep rows that are english.\n",
    "5. Keep first author only.\n",
    "6. Get description column and page_count column by webscraping.\n"
   ]
  },
  {
   "cell_type": "code",
   "execution_count": 1,
   "metadata": {},
   "outputs": [],
   "source": [
    "import os\n",
    "import pandas as pd"
   ]
  },
  {
   "cell_type": "code",
   "execution_count": 2,
   "metadata": {},
   "outputs": [],
   "source": [
    "# Load datasets\n",
    "dataset_path = \"../dataset/goodbooks-10k\"\n",
    "books_path = os.path.join(dataset_path, \"books.csv\")\n",
    "tags_path = os.path.join(dataset_path, \"tags.csv\")\n",
    "book_tags_path = os.path.join(dataset_path, \"book_tags.csv\")\n",
    "\n",
    "tags_df = pd.read_csv(tags_path)\n",
    "books_df = pd.read_csv(books_path)\n",
    "book_tags_df = pd.read_csv(book_tags_path)"
   ]
  },
  {
   "cell_type": "code",
   "execution_count": 3,
   "metadata": {
    "tags": []
   },
   "outputs": [
    {
     "output_type": "stream",
     "name": "stdout",
     "text": "<class 'pandas.core.frame.DataFrame'>\nRangeIndex: 10000 entries, 0 to 9999\nData columns (total 23 columns):\nbook_id                      10000 non-null int64\ngoodreads_book_id            10000 non-null int64\nbest_book_id                 10000 non-null int64\nwork_id                      10000 non-null int64\nbooks_count                  10000 non-null int64\nisbn                         9300 non-null object\nisbn13                       9415 non-null float64\nauthors                      10000 non-null object\noriginal_publication_year    9979 non-null float64\noriginal_title               9415 non-null object\ntitle                        10000 non-null object\nlanguage_code                8916 non-null object\naverage_rating               10000 non-null float64\nratings_count                10000 non-null int64\nwork_ratings_count           10000 non-null int64\nwork_text_reviews_count      10000 non-null int64\nratings_1                    10000 non-null int64\nratings_2                    10000 non-null int64\nratings_3                    10000 non-null int64\nratings_4                    10000 non-null int64\nratings_5                    10000 non-null int64\nimage_url                    10000 non-null object\nsmall_image_url              10000 non-null object\ndtypes: float64(3), int64(13), object(7)\nmemory usage: 1.8+ MB\n"
    }
   ],
   "source": [
    "books_df.info()"
   ]
  },
  {
   "cell_type": "code",
   "execution_count": 4,
   "metadata": {
    "tags": []
   },
   "outputs": [
    {
     "output_type": "stream",
     "name": "stdout",
     "text": "<class 'pandas.core.frame.DataFrame'>\nRangeIndex: 10000 entries, 0 to 9999\nData columns (total 16 columns):\nbook_id                      10000 non-null int64\ngoodreads_book_id            10000 non-null int64\nisbn                         9300 non-null object\nauthors                      10000 non-null object\noriginal_publication_year    9979 non-null float64\ntitle                        10000 non-null object\nlanguage_code                8916 non-null object\naverage_rating               10000 non-null float64\nratings_count                10000 non-null int64\nratings_1                    10000 non-null int64\nratings_2                    10000 non-null int64\nratings_3                    10000 non-null int64\nratings_4                    10000 non-null int64\nratings_5                    10000 non-null int64\nimage_url                    10000 non-null object\nsmall_image_url              10000 non-null object\ndtypes: float64(2), int64(8), object(6)\nmemory usage: 1.2+ MB\n"
    }
   ],
   "source": [
    "# 1. Remove columns we don't want\n",
    "books_df.drop(columns=['best_book_id', 'work_id', 'books_count', 'isbn13', 'original_title', 'work_ratings_count', 'work_text_reviews_count'], inplace=True)\n",
    "books_df.info()"
   ]
  },
  {
   "cell_type": "code",
   "execution_count": 5,
   "metadata": {
    "tags": []
   },
   "outputs": [
    {
     "output_type": "stream",
     "name": "stdout",
     "text": "<class 'pandas.core.frame.DataFrame'>\nInt64Index: 8243 entries, 0 to 9998\nData columns (total 16 columns):\nbook_id                      8243 non-null int64\ngoodreads_book_id            8243 non-null int64\nisbn                         8243 non-null object\nauthors                      8243 non-null object\noriginal_publication_year    8243 non-null float64\ntitle                        8243 non-null object\nlanguage_code                8243 non-null object\naverage_rating               8243 non-null float64\nratings_count                8243 non-null int64\nratings_1                    8243 non-null int64\nratings_2                    8243 non-null int64\nratings_3                    8243 non-null int64\nratings_4                    8243 non-null int64\nratings_5                    8243 non-null int64\nimage_url                    8243 non-null object\nsmall_image_url              8243 non-null object\ndtypes: float64(2), int64(8), object(6)\nmemory usage: 1.1+ MB\n"
    }
   ],
   "source": [
    "# 2. Remove rows with NaN values\n",
    "books_df.dropna(inplace=True)\n",
    "books_df.info()"
   ]
  },
  {
   "cell_type": "code",
   "execution_count": 6,
   "metadata": {
    "tags": []
   },
   "outputs": [
    {
     "output_type": "stream",
     "name": "stdout",
     "text": "<class 'pandas.core.frame.DataFrame'>\nInt64Index: 2683 entries, 32 to 9996\nData columns (total 16 columns):\nbook_id                      2683 non-null int64\ngoodreads_book_id            2683 non-null int64\nisbn                         2683 non-null object\nauthors                      2683 non-null object\noriginal_publication_year    2683 non-null float64\ntitle                        2683 non-null object\nlanguage_code                2683 non-null object\naverage_rating               2683 non-null float64\nratings_count                2683 non-null int64\nratings_1                    2683 non-null int64\nratings_2                    2683 non-null int64\nratings_3                    2683 non-null int64\nratings_4                    2683 non-null int64\nratings_5                    2683 non-null int64\nimage_url                    2683 non-null object\nsmall_image_url              2683 non-null object\ndtypes: float64(2), int64(8), object(6)\nmemory usage: 356.3+ KB\n"
    }
   ],
   "source": [
    "# 3. Remove rows with no image for book\n",
    "books_df = books_df[books_df['image_url'].str.contains('nophoto')]\n",
    "books_df.info()"
   ]
  },
  {
   "cell_type": "code",
   "execution_count": 7,
   "metadata": {
    "tags": []
   },
   "outputs": [
    {
     "output_type": "stream",
     "name": "stdout",
     "text": "<class 'pandas.core.frame.DataFrame'>\nInt64Index: 2648 entries, 32 to 9996\nData columns (total 15 columns):\nbook_id                      2648 non-null int64\ngoodreads_book_id            2648 non-null int64\nisbn                         2648 non-null object\nauthors                      2648 non-null object\noriginal_publication_year    2648 non-null float64\ntitle                        2648 non-null object\naverage_rating               2648 non-null float64\nratings_count                2648 non-null int64\nratings_1                    2648 non-null int64\nratings_2                    2648 non-null int64\nratings_3                    2648 non-null int64\nratings_4                    2648 non-null int64\nratings_5                    2648 non-null int64\nimage_url                    2648 non-null object\nsmall_image_url              2648 non-null object\ndtypes: float64(2), int64(8), object(5)\nmemory usage: 331.0+ KB\n"
    }
   ],
   "source": [
    "# 4. Remove non-english books\n",
    "books_df = books_df[books_df['language_code'].str.contains('en')]\n",
    "books_df.drop(columns=['language_code'], inplace=True)\n",
    "books_df.info()"
   ]
  },
  {
   "cell_type": "code",
   "execution_count": 8,
   "metadata": {
    "tags": []
   },
   "outputs": [
    {
     "output_type": "stream",
     "name": "stdout",
     "text": "<class 'pandas.core.frame.DataFrame'>\nInt64Index: 2648 entries, 32 to 9996\nData columns (total 15 columns):\nbook_id                      2648 non-null int64\ngoodreads_book_id            2648 non-null int64\nisbn                         2648 non-null object\noriginal_publication_year    2648 non-null float64\ntitle                        2648 non-null object\naverage_rating               2648 non-null float64\nratings_count                2648 non-null int64\nratings_1                    2648 non-null int64\nratings_2                    2648 non-null int64\nratings_3                    2648 non-null int64\nratings_4                    2648 non-null int64\nratings_5                    2648 non-null int64\nimage_url                    2648 non-null object\nsmall_image_url              2648 non-null object\nauthor                       2648 non-null object\ndtypes: float64(2), int64(8), object(5)\nmemory usage: 331.0+ KB\n"
    }
   ],
   "source": [
    "# 5. Keep name of first author only (second name usually illustrator or introduction by)\n",
    "books_df['author'] = books_df['authors'].apply(lambda x:  x.split(',')[0])\n",
    "books_df.drop(columns=['authors'], inplace=True)\n",
    "books_df.info()"
   ]
  },
  {
   "cell_type": "code",
   "execution_count": 9,
   "metadata": {},
   "outputs": [],
   "source": [
    "import re\n",
    "from bs4 import BeautifulSoup\n",
    "import requests\n",
    "def clean_line(line):\n",
    "    line = str(line)\n",
    "    line = line.replace('<br/>', '\\n\\n')\n",
    "    line = line.replace('<br>', '\\n\\n')\n",
    "    line = line.replace('</br>', '')\n",
    "    line = line.replace('\\xa0', ' ')\n",
    "\n",
    "    if 'https' in line:\n",
    "        line =''\n",
    "\n",
    "    line = re.sub('<.{0,6}>', '', line)\n",
    "    line = re.sub('</.{0,6}>', '', line)\n",
    "    return line"
   ]
  },
  {
   "cell_type": "code",
   "execution_count": 53,
   "metadata": {
    "tags": []
   },
   "outputs": [
    {
     "output_type": "stream",
     "name": "stderr",
     "text": "\n  0%|          | 0/305 [00:00<?, ?it/s]6150530\n\n  0%|          | 1/305 [00:03<17:28,  3.45s/it]198511\n\n  1%|          | 2/305 [00:07<18:06,  3.59s/it]34941\n\n  1%|          | 3/305 [00:12<19:52,  3.95s/it]18889\n\n  1%|▏         | 4/305 [00:16<20:06,  4.01s/it]829313\n\n  2%|▏         | 5/305 [00:20<19:47,  3.96s/it]2230284\n\n  2%|▏         | 6/305 [00:26<23:41,  4.75s/it]132609\n\n  2%|▏         | 7/305 [00:30<21:46,  4.39s/it]78674\n\n  3%|▎         | 8/305 [00:36<24:30,  4.95s/it]13074\n\n  3%|▎         | 9/305 [00:42<25:52,  5.25s/it]22304\n\n  3%|▎         | 10/305 [00:48<26:39,  5.42s/it]12786\n\n  4%|▎         | 11/305 [00:51<23:35,  4.81s/it]37619\n\n  4%|▍         | 12/305 [00:55<22:00,  4.51s/it]4599\n\n  4%|▍         | 13/305 [00:59<20:45,  4.26s/it]4609710\n\n  5%|▍         | 14/305 [01:02<19:14,  3.97s/it]37298\n\n  5%|▍         | 15/305 [01:07<20:14,  4.19s/it]228194\n\n  5%|▌         | 16/305 [01:11<19:59,  4.15s/it]43345\n\n  6%|▌         | 17/305 [01:14<18:51,  3.93s/it]32636\n\n  6%|▌         | 18/305 [01:18<19:01,  3.98s/it]789559\n\n  6%|▌         | 19/305 [01:22<18:14,  3.83s/it]6452806\n\n  7%|▋         | 20/305 [01:26<19:01,  4.01s/it]3760\n\n  7%|▋         | 21/305 [01:30<18:20,  3.88s/it]349929\n\n  7%|▋         | 22/305 [01:34<19:13,  4.08s/it]47701\n\n  8%|▊         | 23/305 [01:39<19:34,  4.16s/it]23232\n\n  8%|▊         | 24/305 [01:43<19:27,  4.16s/it]428223\n\n  8%|▊         | 25/305 [01:47<19:10,  4.11s/it]6713071\n\n  9%|▊         | 26/305 [01:51<18:56,  4.07s/it]8701960\n\n  9%|▉         | 27/305 [01:55<19:04,  4.12s/it]168569\n\n  9%|▉         | 28/305 [01:59<18:22,  3.98s/it]25052\n\n 10%|▉         | 29/305 [02:05<21:45,  4.73s/it]459386\n\n 10%|▉         | 30/305 [02:09<20:21,  4.44s/it]3762\n\n 10%|█         | 31/305 [02:13<19:40,  4.31s/it]1891296\n\n 10%|█         | 32/305 [02:16<18:09,  3.99s/it]107773\n\n 11%|█         | 33/305 [02:20<18:29,  4.08s/it]6691426\n\n 11%|█         | 34/305 [02:24<18:07,  4.01s/it]422452\n\n 11%|█▏        | 35/305 [02:28<17:45,  3.95s/it]85679\n\n 12%|█▏        | 36/305 [02:34<20:45,  4.63s/it]7203669\n\n 12%|█▏        | 37/305 [02:39<20:32,  4.60s/it]2067\n\n 12%|█▏        | 38/305 [02:43<19:58,  4.49s/it]25148\n\n 13%|█▎        | 39/305 [02:47<18:59,  4.28s/it]47304\n\n 13%|█▎        | 40/305 [02:51<19:08,  4.34s/it]2120783\n\n 13%|█▎        | 41/305 [02:55<18:47,  4.27s/it]1823\n\n 14%|█▍        | 42/305 [02:59<18:25,  4.21s/it]15161\n\n 14%|█▍        | 43/305 [03:04<18:32,  4.25s/it]40293\n\n 14%|█▍        | 44/305 [03:08<17:48,  4.09s/it]8879121\n\n 15%|█▍        | 45/305 [03:12<17:55,  4.14s/it]32812\n\n 15%|█▌        | 46/305 [03:18<21:00,  4.87s/it]4059448\n\n 15%|█▌        | 47/305 [03:22<19:57,  4.64s/it]58033\n\n 16%|█▌        | 48/305 [03:26<18:30,  4.32s/it]373606\n\n 16%|█▌        | 49/305 [03:30<18:22,  4.31s/it]93808\n\n 16%|█▋        | 50/305 [03:37<21:09,  4.98s/it]2508164\n\n 17%|█▋        | 51/305 [03:44<23:23,  5.52s/it]32428\n\n 17%|█▋        | 52/305 [03:48<21:22,  5.07s/it]109520\n\n 17%|█▋        | 53/305 [03:54<22:24,  5.34s/it]9757266\n\n 18%|█▊        | 54/305 [03:58<20:46,  4.97s/it]8087\n\n 18%|█▊        | 55/305 [04:01<18:49,  4.52s/it]8755555\n\n 18%|█▊        | 56/305 [04:05<18:07,  4.37s/it]2474084\n\n 19%|█▊        | 57/305 [04:09<17:24,  4.21s/it]43357\n\n 19%|█▉        | 58/305 [04:13<16:45,  4.07s/it]86524\n\n 19%|█▉        | 59/305 [04:16<16:08,  3.94s/it]71869\n\n 20%|█▉        | 60/305 [04:20<15:56,  3.91s/it]7967299\n\n 20%|██        | 61/305 [04:24<15:39,  3.85s/it]39916\n\n 20%|██        | 62/305 [04:28<15:55,  3.93s/it]5942\n\n 21%|██        | 63/305 [04:33<16:32,  4.10s/it]268559\n\n 21%|██        | 64/305 [04:36<15:57,  3.97s/it]29486\n\n 21%|██▏       | 65/305 [04:40<15:25,  3.86s/it]43780\n\n 22%|██▏       | 66/305 [04:44<15:39,  3.93s/it]846066\n\n 22%|██▏       | 67/305 [04:48<15:17,  3.86s/it]94299\n\n 22%|██▏       | 68/305 [05:33<1:04:57, 16.45s/it]395220\n\n 23%|██▎       | 69/305 [05:59<1:14:54, 19.05s/it]10364994\n\n 23%|██▎       | 70/305 [06:10<1:05:03, 16.61s/it]55018\n\n 23%|██▎       | 71/305 [06:21<58:56, 15.11s/it]6389257\n\n 24%|██▎       | 72/305 [06:35<57:21, 14.77s/it]348564\n\n 24%|██▍       | 73/305 [06:48<55:26, 14.34s/it]9592213\n\n 24%|██▍       | 74/305 [07:16<1:10:46, 18.38s/it]237114\n\n 25%|██▍       | 75/305 [07:34<1:09:09, 18.04s/it]177515\n\n 25%|██▍       | 76/305 [07:48<1:04:28, 16.89s/it]473623\n\n 25%|██▌       | 77/305 [08:24<1:26:22, 22.73s/it]227492\n\n 26%|██▌       | 78/305 [08:32<1:08:41, 18.16s/it]1258121\n\n 26%|██▌       | 79/305 [08:57<1:16:19, 20.26s/it]948526\n\n 26%|██▌       | 80/305 [09:04<1:01:43, 16.46s/it]57736\n\n 27%|██▋       | 81/305 [09:31<1:12:46, 19.49s/it]241387\n\n 27%|██▋       | 82/305 [09:54<1:16:48, 20.67s/it]122781\n\n 27%|██▋       | 83/305 [10:20<1:22:18, 22.25s/it]105687\n\n 28%|██▊       | 84/305 [10:56<1:36:42, 26.26s/it]467032\n\n 28%|██▊       | 85/305 [11:10<1:23:01, 22.64s/it]4364\n\n 28%|██▊       | 86/305 [11:18<1:06:25, 18.20s/it]10105\n\n 29%|██▊       | 87/305 [11:34<1:03:46, 17.55s/it]8286216\n\n 29%|██▉       | 88/305 [11:50<1:01:51, 17.11s/it]5697\n\n 29%|██▉       | 89/305 [12:06<1:00:00, 16.67s/it]62479\n\n 30%|██▉       | 90/305 [12:27<1:04:57, 18.13s/it]1541884\n\n 30%|██▉       | 91/305 [12:40<58:34, 16.42s/it]6517407\n\n 30%|███       | 92/305 [12:43<44:14, 12.46s/it]7252\n\n 30%|███       | 93/305 [13:00<48:50, 13.82s/it]7261549\n\n 31%|███       | 94/305 [13:10<44:22, 12.62s/it]228198\n\n 31%|███       | 95/305 [13:28<50:13, 14.35s/it]111306\n\n 31%|███▏      | 96/305 [13:36<42:48, 12.29s/it]531197\n\n 32%|███▏      | 97/305 [13:40<34:25,  9.93s/it]227590\n\n 32%|███▏      | 98/305 [13:53<37:32, 10.88s/it]765193\n\n 32%|███▏      | 99/305 [14:03<36:24, 10.60s/it]37377\n\n 33%|███▎      | 100/305 [14:34<56:42, 16.60s/it]366337\n\n 33%|███▎      | 101/305 [14:50<56:23, 16.59s/it]8257435\n\n 33%|███▎      | 102/305 [15:10<59:40, 17.64s/it]241969\n\n 34%|███▍      | 103/305 [15:36<1:07:15, 19.98s/it]27298\n\n 34%|███▍      | 104/305 [16:37<1:48:58, 32.53s/it]99461\n\n 34%|███▍      | 105/305 [17:03<1:41:32, 30.46s/it]44360\n\n 35%|███▍      | 106/305 [17:54<2:01:33, 36.65s/it]6452731\n\n 35%|███▌      | 107/305 [17:59<1:29:01, 26.98s/it]6505109\n\n 35%|███▌      | 108/305 [18:14<1:16:53, 23.42s/it]393060\n\n 36%|███▌      | 109/305 [18:40<1:19:24, 24.31s/it]349129\n\n 36%|███▌      | 110/305 [19:08<1:22:40, 25.44s/it]697210\n\n 36%|███▋      | 111/305 [19:51<1:38:40, 30.52s/it]24761\n\n 37%|███▋      | 112/305 [20:03<1:20:21, 24.98s/it]15655\n\n 37%|███▋      | 113/305 [20:29<1:21:29, 25.47s/it]7296271\n\n 37%|███▋      | 114/305 [20:38<1:05:28, 20.57s/it]1105093\n\n 38%|███▊      | 115/305 [20:43<49:50, 15.74s/it]376613\n\n 38%|███▊      | 116/305 [21:27<1:16:04, 24.15s/it]5291189\n\n 38%|███▊      | 117/305 [21:55<1:19:24, 25.35s/it]71984\n\n 39%|███▊      | 118/305 [22:16<1:14:55, 24.04s/it]161846\n\n 39%|███▉      | 119/305 [22:25<1:00:53, 19.64s/it]2306910\n\n 39%|███▉      | 120/305 [23:01<1:16:02, 24.66s/it]18990\n\n 40%|███▉      | 121/305 [23:25<1:14:37, 24.33s/it]13105\n\n 40%|████      | 122/305 [23:36<1:02:15, 20.41s/it]820394\n\n 40%|████      | 123/305 [24:04<1:08:09, 22.47s/it]141935\n\n 41%|████      | 124/305 [24:22<1:04:08, 21.26s/it]61505\n\n 41%|████      | 125/305 [24:26<48:04, 16.03s/it]6758423\n\n 41%|████▏     | 126/305 [24:37<43:25, 14.56s/it]152402\n\n 42%|████▏     | 127/305 [25:16<1:04:59, 21.91s/it]432283\n\n 42%|████▏     | 128/305 [25:22<50:41, 17.18s/it]44399\n\n 42%|████▏     | 129/305 [25:29<41:13, 14.05s/it]3015764\n\n 43%|████▎     | 130/305 [26:46<1:35:57, 32.90s/it]6433344\n\n 43%|████▎     | 131/305 [26:53<1:12:42, 25.07s/it]7090290\n\n 43%|████▎     | 132/305 [27:08<1:03:30, 22.02s/it]64732\n\n 44%|████▎     | 133/305 [27:23<57:47, 20.16s/it]1524\n\n 44%|████▍     | 134/305 [27:44<58:02, 20.36s/it]4800764\n\n 44%|████▍     | 135/305 [28:08<1:01:01, 21.54s/it]21086818\n\n 45%|████▍     | 136/305 [28:49<1:16:30, 27.16s/it]33356\n\n 45%|████▍     | 137/305 [29:10<1:11:15, 25.45s/it]52367\n\n 45%|████▌     | 138/305 [29:19<57:09, 20.54s/it]11429\n\n 46%|████▌     | 139/305 [29:32<50:01, 18.08s/it]51715\n\n 46%|████▌     | 140/305 [30:47<1:37:10, 35.34s/it]11306\n\n 46%|████▌     | 141/305 [31:04<1:21:42, 29.90s/it]125959\n\n 47%|████▋     | 142/305 [31:10<1:01:25, 22.61s/it]8163161\n\n 47%|████▋     | 143/305 [31:45<1:11:01, 26.31s/it]6261270\n\n 47%|████▋     | 144/305 [32:06<1:06:15, 24.69s/it]11324\n\n 48%|████▊     | 145/305 [32:45<1:17:19, 29.00s/it]62233\n\n 48%|████▊     | 146/305 [33:01<1:06:40, 25.16s/it]330944\n\n 48%|████▊     | 147/305 [33:12<54:59, 20.88s/it]85425\n\n 49%|████▊     | 148/305 [34:03<1:18:14, 29.90s/it]7159016\n\n 49%|████▉     | 149/305 [34:42<1:24:43, 32.59s/it]289029\n\n 49%|████▉     | 150/305 [34:45<1:01:45, 23.91s/it]659546\n\n 50%|████▉     | 151/305 [34:50<46:47, 18.23s/it]10803806\n\n 50%|████▉     | 152/305 [35:43<1:13:05, 28.66s/it]71823\n\n 50%|█████     | 153/305 [36:06<1:07:51, 26.79s/it]5618698\n\n 50%|█████     | 154/305 [36:10<50:20, 20.00s/it]31334\n\n 51%|█████     | 155/305 [36:18<40:45, 16.30s/it]1176884\n\n 51%|█████     | 156/305 [36:30<37:47, 15.22s/it]12021559\n\n 51%|█████▏    | 157/305 [36:41<34:13, 13.87s/it]38703\n\n 52%|█████▏    | 158/305 [36:46<27:39, 11.29s/it]155291\n\n 52%|█████▏    | 159/305 [36:50<21:39,  8.90s/it]6261477\n\n 52%|█████▏    | 160/305 [37:48<57:15, 23.69s/it]1070527\n\n 53%|█████▎    | 161/305 [37:54<44:16, 18.45s/it]199532\n\n 53%|█████▎    | 162/305 [38:23<51:08, 21.46s/it]290628\n\n 53%|█████▎    | 163/305 [39:18<1:15:00, 31.70s/it]8150317\n\n 54%|█████▍    | 164/305 [39:39<1:06:59, 28.51s/it]8100979\n\n 54%|█████▍    | 165/305 [40:04<1:03:51, 27.37s/it]244115\n\n 54%|█████▍    | 166/305 [40:10<48:34, 20.97s/it]313998\n\n 55%|█████▍    | 167/305 [40:20<40:36, 17.65s/it]550940\n\n 55%|█████▌    | 168/305 [40:31<35:49, 15.69s/it]74034\n\n 55%|█████▌    | 169/305 [41:11<52:01, 22.95s/it]1153709\n\n 56%|█████▌    | 170/305 [41:25<45:44, 20.33s/it]571508\n\n 56%|█████▌    | 171/305 [41:43<43:57, 19.68s/it]36058\n\n 56%|█████▋    | 172/305 [42:00<41:19, 18.64s/it]11445880\n\n 57%|█████▋    | 173/305 [42:24<44:58, 20.44s/it]105920\n\n 57%|█████▋    | 174/305 [43:36<1:18:27, 35.94s/it]85310\n\n 57%|█████▋    | 175/305 [43:45<1:00:18, 27.83s/it]51740\n\n 58%|█████▊    | 176/305 [43:58<50:20, 23.42s/it]127567\n\n 58%|█████▊    | 177/305 [44:13<44:28, 20.85s/it]77866\n\n 58%|█████▊    | 178/305 [44:17<33:30, 15.83s/it]94064\n\n 59%|█████▊    | 179/305 [44:41<37:55, 18.06s/it]68930\n\n 59%|█████▉    | 180/305 [45:42<1:04:36, 31.01s/it]239381\n\n 59%|█████▉    | 181/305 [46:03<57:49, 27.98s/it]221298\n\n 60%|█████▉    | 182/305 [46:20<50:30, 24.64s/it]820517\n\n 60%|██████    | 183/305 [46:31<42:08, 20.72s/it]5750628\n\n 60%|██████    | 184/305 [46:38<33:11, 16.46s/it]7199\n\n 61%|██████    | 185/305 [46:57<34:50, 17.42s/it]6403690\n\n 61%|██████    | 186/305 [47:10<31:43, 16.00s/it]487666\n\n 61%|██████▏   | 187/305 [47:29<33:01, 16.79s/it]232268\n\n 62%|██████▏   | 188/305 [47:57<39:15, 20.13s/it]400881\n\n 62%|██████▏   | 189/305 [48:31<47:14, 24.43s/it]139176\n\n 62%|██████▏   | 190/305 [48:54<46:01, 24.01s/it]179565\n\n 63%|██████▎   | 191/305 [49:18<45:32, 23.97s/it]46906\n\n 63%|██████▎   | 192/305 [50:01<56:00, 29.74s/it]576666\n\n 63%|██████▎   | 193/305 [50:06<41:29, 22.23s/it]93453\n\n 64%|██████▎   | 194/305 [50:42<48:49, 26.39s/it]54666\n\n 64%|██████▍   | 195/305 [50:59<43:03, 23.49s/it]14460\n\n 64%|██████▍   | 196/305 [51:05<33:14, 18.29s/it]11605\n\n 65%|██████▍   | 197/305 [51:34<38:43, 21.51s/it]1624920\n\n 65%|██████▍   | 198/305 [52:32<57:53, 32.46s/it]6351910\n\n 65%|██████▌   | 199/305 [52:57<53:41, 30.39s/it]25955\n\n 66%|██████▌   | 200/305 [53:07<42:15, 24.15s/it]96463\n\n 66%|██████▌   | 201/305 [53:38<45:24, 26.20s/it]3710\n\n 66%|██████▌   | 202/305 [53:50<37:40, 21.94s/it]8487363\n\n 67%|██████▋   | 203/305 [53:57<29:34, 17.40s/it]175078\n\n 67%|██████▋   | 204/305 [54:14<29:09, 17.32s/it]86655\n\n 67%|██████▋   | 205/305 [54:19<22:38, 13.59s/it]562763\n\n 68%|██████▊   | 206/305 [54:28<20:16, 12.29s/it]9581507\n\n 68%|██████▊   | 207/305 [54:39<19:28, 11.93s/it]6448482\n\n 68%|██████▊   | 208/305 [54:48<17:45, 10.98s/it]341027\n\n 69%|██████▊   | 209/305 [54:59<17:44, 11.08s/it]14680\n\n 69%|██████▉   | 210/305 [55:46<34:19, 21.68s/it]341553\n\n 69%|██████▉   | 211/305 [56:41<49:50, 31.82s/it]348489\n\n 70%|██████▉   | 212/305 [57:07<46:42, 30.14s/it]562930\n\n 70%|██████▉   | 213/305 [57:15<35:44, 23.31s/it]420278\n\n 70%|███████   | 214/305 [57:18<26:23, 17.40s/it]6330323\n\n 70%|███████   | 215/305 [57:53<33:57, 22.64s/it]15557\n\n 71%|███████   | 216/305 [58:17<34:03, 22.96s/it]12448\n\n 71%|███████   | 217/305 [1:00:03<1:10:18, 47.93s/it]6939939\n\n 71%|███████▏  | 218/305 [1:00:25<58:15, 40.18s/it]78972\n\n 72%|███████▏  | 219/305 [1:00:48<49:57, 34.86s/it]8515\n\n 72%|███████▏  | 220/305 [1:01:30<52:43, 37.22s/it]28700\n\n 72%|███████▏  | 221/305 [1:01:41<40:45, 29.11s/it]8765012\n\n 73%|███████▎  | 222/305 [1:02:14<41:52, 30.27s/it]100476\n\n 73%|███████▎  | 223/305 [1:02:33<36:52, 26.98s/it]199531\n\n 73%|███████▎  | 224/305 [1:02:44<29:58, 22.20s/it]10931321\n\n 74%|███████▍  | 225/305 [1:02:49<22:53, 17.17s/it]48974\n\n 74%|███████▍  | 226/305 [1:03:24<29:26, 22.36s/it]176892\n\n 74%|███████▍  | 227/305 [1:03:29<22:20, 17.19s/it]22411\n\n 75%|███████▍  | 228/305 [1:03:54<25:02, 19.51s/it]107172\n\n 75%|███████▌  | 229/305 [1:04:04<21:14, 16.77s/it]25053\n\n 75%|███████▌  | 230/305 [1:04:20<20:32, 16.44s/it]1032\n\n 76%|███████▌  | 231/305 [1:05:15<34:28, 27.96s/it]82553\n\n 76%|███████▌  | 232/305 [1:05:50<36:41, 30.15s/it]836607\n\n 76%|███████▋  | 233/305 [1:06:03<30:07, 25.10s/it]6542645\n\n 77%|███████▋  | 234/305 [1:06:10<23:08, 19.55s/it]663098\n\n 77%|███████▋  | 235/305 [1:06:54<31:13, 26.77s/it]1008231\n\n 77%|███████▋  | 236/305 [1:07:05<25:34, 22.24s/it]6311614\n\n 78%|███████▊  | 237/305 [1:07:11<19:33, 17.26s/it]2309720\n\n 78%|███████▊  | 238/305 [1:07:52<27:14, 24.39s/it]7785\n\n 78%|███████▊  | 239/305 [1:07:56<20:05, 18.26s/it]586516\n\n 79%|███████▊  | 240/305 [1:08:14<19:40, 18.17s/it]891671\n\n 79%|███████▉  | 241/305 [1:08:23<16:27, 15.43s/it]552987\n\n 79%|███████▉  | 242/305 [1:08:41<17:07, 16.31s/it]153866\n\n 80%|███████▉  | 243/305 [1:08:51<14:43, 14.24s/it]484167\n\n 80%|████████  | 244/305 [1:08:58<12:17, 12.08s/it]13068\n\n 80%|████████  | 245/305 [1:09:12<12:51, 12.86s/it]710969\n\n 81%|████████  | 246/305 [1:09:20<11:08, 11.33s/it]854252\n\n 81%|████████  | 247/305 [1:09:25<09:07,  9.43s/it]934700\n\n 81%|████████▏ | 248/305 [1:10:00<16:18, 17.16s/it]294430\n\n 82%|████████▏ | 249/305 [1:10:10<13:48, 14.79s/it]20249\n\n 82%|████████▏ | 250/305 [1:10:15<10:53, 11.88s/it]14403\n\n 82%|████████▏ | 251/305 [1:10:29<11:27, 12.74s/it]386\n\n 83%|████████▎ | 252/305 [1:10:41<10:49, 12.25s/it]5303373\n\n 83%|████████▎ | 253/305 [1:11:37<22:04, 25.48s/it]68985\n\n 83%|████████▎ | 254/305 [1:11:56<20:02, 23.57s/it]19400\n\n 84%|████████▎ | 255/305 [1:12:04<15:41, 18.83s/it]608601\n\n 84%|████████▍ | 256/305 [1:12:09<11:55, 14.61s/it]52318\n\n 84%|████████▍ | 257/305 [1:12:20<10:50, 13.55s/it]11410104\n\n 85%|████████▍ | 258/305 [1:13:00<16:56, 21.63s/it]158446\n\n 85%|████████▍ | 259/305 [1:13:08<13:27, 17.56s/it]43739\n\n 85%|████████▌ | 260/305 [1:13:52<19:08, 25.51s/it]6081686\n\n 86%|████████▌ | 261/305 [1:13:58<14:20, 19.55s/it]818372\n\n 86%|████████▌ | 262/305 [1:14:16<13:44, 19.17s/it]18342283\n\n 86%|████████▌ | 263/305 [1:15:34<25:48, 36.88s/it]271264\n\n 87%|████████▋ | 264/305 [1:16:09<24:41, 36.13s/it]1098486\n\n 87%|████████▋ | 265/305 [1:16:17<18:35, 27.90s/it]1350249\n\n 87%|████████▋ | 266/305 [1:16:27<14:36, 22.48s/it]335397\n\n 88%|████████▊ | 267/305 [1:16:39<12:07, 19.13s/it]7078265\n\n 88%|████████▊ | 268/305 [1:16:56<11:24, 18.50s/it]67863\n\n 88%|████████▊ | 269/305 [1:17:07<09:51, 16.42s/it]5981415\n\n 89%|████████▊ | 270/305 [1:17:25<09:51, 16.91s/it]34295\n\n 89%|████████▉ | 271/305 [1:17:35<08:18, 14.65s/it]96702\n\n 89%|████████▉ | 272/305 [1:17:46<07:34, 13.77s/it]25014\n\n 90%|████████▉ | 273/305 [1:17:54<06:24, 12.02s/it]65633\n\n 90%|████████▉ | 274/305 [1:18:05<06:03, 11.72s/it]15101\n\n 90%|█████████ | 275/305 [1:18:16<05:38, 11.29s/it]61899\n\n 90%|█████████ | 276/305 [1:18:32<06:13, 12.89s/it]10461\n\n 91%|█████████ | 277/305 [1:19:02<08:21, 17.93s/it]78976\n\n 91%|█████████ | 278/305 [1:19:14<07:14, 16.09s/it]90420\n\n 91%|█████████▏| 279/305 [1:19:21<05:47, 13.38s/it]12687461\n\n 92%|█████████▏| 280/305 [1:19:31<05:07, 12.32s/it]31087\n\n 92%|█████████▏| 281/305 [1:19:53<06:10, 15.43s/it]7257982\n\n 92%|█████████▏| 282/305 [1:20:26<07:52, 20.54s/it]10009\n\n 93%|█████████▎| 283/305 [1:20:43<07:13, 19.70s/it]8702806\n\n 93%|█████████▎| 284/305 [1:20:57<06:14, 17.83s/it]5053547\n\n 93%|█████████▎| 285/305 [1:21:02<04:38, 13.93s/it]228200\n\n 94%|█████████▍| 286/305 [1:21:21<04:55, 15.57s/it]33896\n\n 94%|█████████▍| 287/305 [1:21:38<04:45, 15.86s/it]1197646\n\n 94%|█████████▍| 288/305 [1:21:50<04:12, 14.83s/it]37300\n\n 95%|█████████▍| 289/305 [1:21:58<03:24, 12.80s/it]1824\n\n 95%|█████████▌| 290/305 [1:22:26<04:21, 17.45s/it]2227371\n\n 95%|█████████▌| 291/305 [1:23:00<05:09, 22.14s/it]6332526\n\n 96%|█████████▌| 292/305 [1:23:06<03:45, 17.32s/it]7494887\n\n 96%|█████████▌| 293/305 [1:23:22<03:23, 16.94s/it]6872\n\n 96%|█████████▋| 294/305 [1:23:27<02:28, 13.47s/it]52588\n\n 97%|█████████▋| 295/305 [1:23:40<02:11, 13.18s/it]92918\n\n 97%|█████████▋| 296/305 [1:24:11<02:47, 18.62s/it]9864\n\n 97%|█████████▋| 297/305 [1:24:22<02:12, 16.51s/it]613991\n\n 98%|█████████▊| 298/305 [1:24:53<02:25, 20.72s/it]16951\n\n 98%|█████████▊| 299/305 [1:25:06<01:50, 18.38s/it]946899\n\n 98%|█████████▊| 300/305 [1:26:03<02:30, 30.02s/it]19688\n\n 99%|█████████▊| 301/305 [1:26:37<02:04, 31.14s/it]8087038\n\n 99%|█████████▉| 302/305 [1:26:41<01:09, 23.07s/it]129237\n\n 99%|█████████▉| 303/305 [1:27:24<00:58, 29.11s/it]15613\n\n100%|█████████▉| 304/305 [1:27:33<00:23, 23.14s/it]208324\n\n100%|██████████| 305/305 [1:28:12<00:00, 17.35s/it]\n"
    }
   ],
   "source": [
    "# 6. Web scrape for description and number of pages (takes hours)\n",
    "from bs4 import BeautifulSoup\n",
    "import requests\n",
    "from tqdm import tqdm\n",
    "descriptions = []\n",
    "page_counts = []\n",
    "books_to_remove = []\n",
    "\n",
    "prefix = 'https://www.goodreads.com/book/show/'\n",
    "for goodreads_book_id in tqdm(books_df['goodreads_book_id']):\n",
    "    url = prefix + str(goodreads_book_id)\n",
    "    \n",
    "    # Get request\n",
    "    while True: # So it tries again when request fails\n",
    "        page = requests.get(url)\n",
    "        if page.ok:\n",
    "            break\n",
    "\n",
    "    print(goodreads_book_id)\n",
    "    soup = BeautifulSoup(page.content, 'html.parser')\n",
    "    \n",
    "    # Get page count\n",
    "    nb_pages = soup.find(\"span\", itemprop=\"numberOfPages\")\n",
    "    if nb_pages is None: # Not a book (probably audio recording / cassette)\n",
    "        books_to_remove.append(goodreads_book_id)\n",
    "        continue\n",
    "    page_count = int(nb_pages.text.split()[0])\n",
    "    page_counts.append(page_count)\n",
    "    \n",
    "    # Get description\n",
    "    description = soup.find(id=\"description\")\n",
    "    if description is None:\n",
    "        descriptions.append('No description available.')\n",
    "    else:\n",
    "        description_text = description.find_all('span')[-1]\n",
    "        description_text = ''.join(clean_line(line) for line in description_text.children)\n",
    "        while '\\n ' in description_text:\n",
    "            description_text = re.sub('\\n ', '\\n', description_text)\n",
    "        description_text = re.sub('\\n+', '\\n\\n', description_text)\n",
    "        description_text = description_text.strip()\n",
    "        descriptions.append(description_text)\n",
    "    \n"
   ]
  },
  {
   "cell_type": "code",
   "execution_count": 56,
   "metadata": {},
   "outputs": [],
   "source": [
    "temp_df = pd.DataFrame(descriptions, columns=['description'])\n",
    "temp_df.to_csv('descriptions_complete.csv', index=False)"
   ]
  },
  {
   "cell_type": "code",
   "execution_count": 57,
   "metadata": {},
   "outputs": [],
   "source": [
    "temp_df = pd.DataFrame(page_counts, columns=['page_count'])\n",
    "temp_df.to_csv('page_count_complete.csv', index=False)"
   ]
  },
  {
   "cell_type": "code",
   "execution_count": 58,
   "metadata": {},
   "outputs": [],
   "source": [
    "temp_df = pd.DataFrame(books_to_remove, columns=['goodread_book_id'])\n",
    "temp_df.to_csv('books_to_remove_complete.csv', index=False)"
   ]
  },
  {
   "cell_type": "code",
   "execution_count": 72,
   "metadata": {
    "tags": []
   },
   "outputs": [],
   "source": [
    "# Remove books we don't want (they are probably audio)\n",
    "books_df = books_df[~books_df['goodreads_book_id'].isin(books_to_remove)]"
   ]
  },
  {
   "cell_type": "code",
   "execution_count": 74,
   "metadata": {},
   "outputs": [],
   "source": [
    "# Add description and page_count columns\n",
    "books_df['description'] = descriptions\n",
    "books_df['page_count'] = page_counts"
   ]
  },
  {
   "cell_type": "code",
   "execution_count": 75,
   "metadata": {
    "tags": []
   },
   "outputs": [
    {
     "output_type": "stream",
     "name": "stdout",
     "text": "<class 'pandas.core.frame.DataFrame'>\nInt64Index: 2647 entries, 32 to 9996\nData columns (total 17 columns):\nbook_id                      2647 non-null int64\ngoodreads_book_id            2647 non-null int64\nisbn                         2647 non-null object\noriginal_publication_year    2647 non-null float64\ntitle                        2647 non-null object\naverage_rating               2647 non-null float64\nratings_count                2647 non-null int64\nratings_1                    2647 non-null int64\nratings_2                    2647 non-null int64\nratings_3                    2647 non-null int64\nratings_4                    2647 non-null int64\nratings_5                    2647 non-null int64\nimage_url                    2647 non-null object\nsmall_image_url              2647 non-null object\nauthor                       2647 non-null object\ndescription                  2647 non-null object\npage_count                   2647 non-null int64\ndtypes: float64(2), int64(9), object(6)\nmemory usage: 452.2+ KB\n"
    }
   ],
   "source": [
    "books_df.info()"
   ]
  },
  {
   "cell_type": "code",
   "execution_count": 81,
   "metadata": {},
   "outputs": [
    {
     "output_type": "execute_result",
     "data": {
      "text/plain": "      book_id  goodreads_book_id        isbn  original_publication_year  \\\n32         33                930   739326228                     1997.0   \n41         42               1934   451529308                     1868.0   \n62         63               6185   393978893                     1847.0   \n77         78               5139   307275558                     2003.0   \n85         86              32542   385338600                     1989.0   \n...       ...                ...         ...                        ...   \n9984     9985              19688   425176932                     2000.0   \n9986     9987            8087038   312651198                     2010.0   \n9987     9988             129237   674017722                     1971.0   \n9994     9995              15613  1416523723                     1924.0   \n9996     9997             208324  067973371X                     1990.0   \n\n                                                  title  average_rating  \\\n32                                  Memoirs of a Geisha            4.08   \n41                      Little Women (Little Women, #1)            4.04   \n62                                    Wuthering Heights            3.82   \n77    The Devil Wears Prada (The Devil Wears Prada, #1)            3.70   \n85                                       A Time to Kill            4.03   \n...                                                 ...             ...   \n9984        Breaking Point (Tom Clancy's Net Force, #4)            3.69   \n9986  Chasing The Night (Eve Duncan, #11; Catherine ...            4.12   \n9987                                A Theory of Justice            3.91   \n9994                                 Billy Budd, Sailor            3.09   \n9996  Means of Ascent (The Years of Lyndon Johnson, #2)            4.25   \n\n      ratings_count  ratings_1  ratings_2  ratings_3  ratings_4  ratings_5  \\\n32          1300209      23500      59033     258700     517157     559782   \n41          1257121      31645      70011     250794     426280     535563   \n62           899195      46469      84084     215320     309180     346082   \n77           665930      24231      58323     192366     226675     178250   \n85           597775      12106      25938     122675     218617     229488   \n...             ...        ...        ...        ...        ...        ...   \n9984           7693        268        684       2349       2456       2068   \n9986          10129        113        331       2127       3957       4436   \n9987           8472        234        607       2001       3171       3095   \n9994          10866       1478       2225       3805       2985       1617   \n9996          12582        303        551       1737       3389       6972   \n\n                                              image_url  \\\n32    https://s.gr-assets.com/assets/nophoto/book/11...   \n41    https://s.gr-assets.com/assets/nophoto/book/11...   \n62    https://s.gr-assets.com/assets/nophoto/book/11...   \n77    https://s.gr-assets.com/assets/nophoto/book/11...   \n85    https://s.gr-assets.com/assets/nophoto/book/11...   \n...                                                 ...   \n9984  https://s.gr-assets.com/assets/nophoto/book/11...   \n9986  https://s.gr-assets.com/assets/nophoto/book/11...   \n9987  https://s.gr-assets.com/assets/nophoto/book/11...   \n9994  https://s.gr-assets.com/assets/nophoto/book/11...   \n9996  https://s.gr-assets.com/assets/nophoto/book/11...   \n\n                                        small_image_url             author  \\\n32    https://s.gr-assets.com/assets/nophoto/book/50...      Arthur Golden   \n41    https://s.gr-assets.com/assets/nophoto/book/50...  Louisa May Alcott   \n62    https://s.gr-assets.com/assets/nophoto/book/50...       Emily Brontë   \n77    https://s.gr-assets.com/assets/nophoto/book/50...  Lauren Weisberger   \n85    https://s.gr-assets.com/assets/nophoto/book/50...       John Grisham   \n...                                                 ...                ...   \n9984  https://s.gr-assets.com/assets/nophoto/book/50...        Steve Perry   \n9986  https://s.gr-assets.com/assets/nophoto/book/50...      Iris Johansen   \n9987  https://s.gr-assets.com/assets/nophoto/book/50...         John Rawls   \n9994  https://s.gr-assets.com/assets/nophoto/book/50...    Herman Melville   \n9996  https://s.gr-assets.com/assets/nophoto/book/50...     Robert A. Caro   \n\n                                            description  page_count  \n32    A literary sensation and runaway bestseller, t...         434  \n41    Generations of readers young and old, male and...         449  \n62    This best-selling Norton Critical Edition is b...         464  \n77    A delightfully dishy novel about the all-time ...         432  \n85    Before The Firm and The Pelican Brief made him...         515  \n...                                                 ...         ...  \n9984  In the year 2000, computers are the new superp...         368  \n9986  A CIA agent's two-year-old child was stolen in...         362  \n9987  Since it appeared in 1971, John Rawls's A Theo...         824  \n9994  A handsome young sailor is unjustly accused of...         160  \n9996  Robert A. Caro's life of Lyndon Johnson, which...         592  \n\n[2647 rows x 17 columns]",
      "text/html": "<div>\n<style scoped>\n    .dataframe tbody tr th:only-of-type {\n        vertical-align: middle;\n    }\n\n    .dataframe tbody tr th {\n        vertical-align: top;\n    }\n\n    .dataframe thead th {\n        text-align: right;\n    }\n</style>\n<table border=\"1\" class=\"dataframe\">\n  <thead>\n    <tr style=\"text-align: right;\">\n      <th></th>\n      <th>book_id</th>\n      <th>goodreads_book_id</th>\n      <th>isbn</th>\n      <th>original_publication_year</th>\n      <th>title</th>\n      <th>average_rating</th>\n      <th>ratings_count</th>\n      <th>ratings_1</th>\n      <th>ratings_2</th>\n      <th>ratings_3</th>\n      <th>ratings_4</th>\n      <th>ratings_5</th>\n      <th>image_url</th>\n      <th>small_image_url</th>\n      <th>author</th>\n      <th>description</th>\n      <th>page_count</th>\n    </tr>\n  </thead>\n  <tbody>\n    <tr>\n      <td>32</td>\n      <td>33</td>\n      <td>930</td>\n      <td>739326228</td>\n      <td>1997.0</td>\n      <td>Memoirs of a Geisha</td>\n      <td>4.08</td>\n      <td>1300209</td>\n      <td>23500</td>\n      <td>59033</td>\n      <td>258700</td>\n      <td>517157</td>\n      <td>559782</td>\n      <td>https://s.gr-assets.com/assets/nophoto/book/11...</td>\n      <td>https://s.gr-assets.com/assets/nophoto/book/50...</td>\n      <td>Arthur Golden</td>\n      <td>A literary sensation and runaway bestseller, t...</td>\n      <td>434</td>\n    </tr>\n    <tr>\n      <td>41</td>\n      <td>42</td>\n      <td>1934</td>\n      <td>451529308</td>\n      <td>1868.0</td>\n      <td>Little Women (Little Women, #1)</td>\n      <td>4.04</td>\n      <td>1257121</td>\n      <td>31645</td>\n      <td>70011</td>\n      <td>250794</td>\n      <td>426280</td>\n      <td>535563</td>\n      <td>https://s.gr-assets.com/assets/nophoto/book/11...</td>\n      <td>https://s.gr-assets.com/assets/nophoto/book/50...</td>\n      <td>Louisa May Alcott</td>\n      <td>Generations of readers young and old, male and...</td>\n      <td>449</td>\n    </tr>\n    <tr>\n      <td>62</td>\n      <td>63</td>\n      <td>6185</td>\n      <td>393978893</td>\n      <td>1847.0</td>\n      <td>Wuthering Heights</td>\n      <td>3.82</td>\n      <td>899195</td>\n      <td>46469</td>\n      <td>84084</td>\n      <td>215320</td>\n      <td>309180</td>\n      <td>346082</td>\n      <td>https://s.gr-assets.com/assets/nophoto/book/11...</td>\n      <td>https://s.gr-assets.com/assets/nophoto/book/50...</td>\n      <td>Emily Brontë</td>\n      <td>This best-selling Norton Critical Edition is b...</td>\n      <td>464</td>\n    </tr>\n    <tr>\n      <td>77</td>\n      <td>78</td>\n      <td>5139</td>\n      <td>307275558</td>\n      <td>2003.0</td>\n      <td>The Devil Wears Prada (The Devil Wears Prada, #1)</td>\n      <td>3.70</td>\n      <td>665930</td>\n      <td>24231</td>\n      <td>58323</td>\n      <td>192366</td>\n      <td>226675</td>\n      <td>178250</td>\n      <td>https://s.gr-assets.com/assets/nophoto/book/11...</td>\n      <td>https://s.gr-assets.com/assets/nophoto/book/50...</td>\n      <td>Lauren Weisberger</td>\n      <td>A delightfully dishy novel about the all-time ...</td>\n      <td>432</td>\n    </tr>\n    <tr>\n      <td>85</td>\n      <td>86</td>\n      <td>32542</td>\n      <td>385338600</td>\n      <td>1989.0</td>\n      <td>A Time to Kill</td>\n      <td>4.03</td>\n      <td>597775</td>\n      <td>12106</td>\n      <td>25938</td>\n      <td>122675</td>\n      <td>218617</td>\n      <td>229488</td>\n      <td>https://s.gr-assets.com/assets/nophoto/book/11...</td>\n      <td>https://s.gr-assets.com/assets/nophoto/book/50...</td>\n      <td>John Grisham</td>\n      <td>Before The Firm and The Pelican Brief made him...</td>\n      <td>515</td>\n    </tr>\n    <tr>\n      <td>...</td>\n      <td>...</td>\n      <td>...</td>\n      <td>...</td>\n      <td>...</td>\n      <td>...</td>\n      <td>...</td>\n      <td>...</td>\n      <td>...</td>\n      <td>...</td>\n      <td>...</td>\n      <td>...</td>\n      <td>...</td>\n      <td>...</td>\n      <td>...</td>\n      <td>...</td>\n      <td>...</td>\n      <td>...</td>\n    </tr>\n    <tr>\n      <td>9984</td>\n      <td>9985</td>\n      <td>19688</td>\n      <td>425176932</td>\n      <td>2000.0</td>\n      <td>Breaking Point (Tom Clancy's Net Force, #4)</td>\n      <td>3.69</td>\n      <td>7693</td>\n      <td>268</td>\n      <td>684</td>\n      <td>2349</td>\n      <td>2456</td>\n      <td>2068</td>\n      <td>https://s.gr-assets.com/assets/nophoto/book/11...</td>\n      <td>https://s.gr-assets.com/assets/nophoto/book/50...</td>\n      <td>Steve Perry</td>\n      <td>In the year 2000, computers are the new superp...</td>\n      <td>368</td>\n    </tr>\n    <tr>\n      <td>9986</td>\n      <td>9987</td>\n      <td>8087038</td>\n      <td>312651198</td>\n      <td>2010.0</td>\n      <td>Chasing The Night (Eve Duncan, #11; Catherine ...</td>\n      <td>4.12</td>\n      <td>10129</td>\n      <td>113</td>\n      <td>331</td>\n      <td>2127</td>\n      <td>3957</td>\n      <td>4436</td>\n      <td>https://s.gr-assets.com/assets/nophoto/book/11...</td>\n      <td>https://s.gr-assets.com/assets/nophoto/book/50...</td>\n      <td>Iris Johansen</td>\n      <td>A CIA agent's two-year-old child was stolen in...</td>\n      <td>362</td>\n    </tr>\n    <tr>\n      <td>9987</td>\n      <td>9988</td>\n      <td>129237</td>\n      <td>674017722</td>\n      <td>1971.0</td>\n      <td>A Theory of Justice</td>\n      <td>3.91</td>\n      <td>8472</td>\n      <td>234</td>\n      <td>607</td>\n      <td>2001</td>\n      <td>3171</td>\n      <td>3095</td>\n      <td>https://s.gr-assets.com/assets/nophoto/book/11...</td>\n      <td>https://s.gr-assets.com/assets/nophoto/book/50...</td>\n      <td>John Rawls</td>\n      <td>Since it appeared in 1971, John Rawls's A Theo...</td>\n      <td>824</td>\n    </tr>\n    <tr>\n      <td>9994</td>\n      <td>9995</td>\n      <td>15613</td>\n      <td>1416523723</td>\n      <td>1924.0</td>\n      <td>Billy Budd, Sailor</td>\n      <td>3.09</td>\n      <td>10866</td>\n      <td>1478</td>\n      <td>2225</td>\n      <td>3805</td>\n      <td>2985</td>\n      <td>1617</td>\n      <td>https://s.gr-assets.com/assets/nophoto/book/11...</td>\n      <td>https://s.gr-assets.com/assets/nophoto/book/50...</td>\n      <td>Herman Melville</td>\n      <td>A handsome young sailor is unjustly accused of...</td>\n      <td>160</td>\n    </tr>\n    <tr>\n      <td>9996</td>\n      <td>9997</td>\n      <td>208324</td>\n      <td>067973371X</td>\n      <td>1990.0</td>\n      <td>Means of Ascent (The Years of Lyndon Johnson, #2)</td>\n      <td>4.25</td>\n      <td>12582</td>\n      <td>303</td>\n      <td>551</td>\n      <td>1737</td>\n      <td>3389</td>\n      <td>6972</td>\n      <td>https://s.gr-assets.com/assets/nophoto/book/11...</td>\n      <td>https://s.gr-assets.com/assets/nophoto/book/50...</td>\n      <td>Robert A. Caro</td>\n      <td>Robert A. Caro's life of Lyndon Johnson, which...</td>\n      <td>592</td>\n    </tr>\n  </tbody>\n</table>\n<p>2647 rows × 17 columns</p>\n</div>"
     },
     "metadata": {},
     "execution_count": 81
    }
   ],
   "source": [
    "books_df"
   ]
  },
  {
   "cell_type": "markdown",
   "metadata": {},
   "source": [
    "## Part 2: Cleaning Tags dataset\n",
    "___\n",
    "1. Need to redo `book_tags_cleaned.csv` so we use ISBN as the index column instead of book_id. Recall `book_tags.csv` has (goodreads_book_id, tag_id, count)\n",
    "2. We can get mapping from book_id to isbn in `book_tags_cleaned.csv`.\n",
    "3. Then we can replace `book_tags_cleaned.csv` from (book_id, tag_id) to (isbn, tag_id).\n",
    "4. For books that don't have tags because they weren't in `books_cleaned.csv` we must add tags for them."
   ]
  },
  {
   "cell_type": "code",
   "execution_count": 84,
   "metadata": {},
   "outputs": [],
   "source": [
    "book_tags_cleaned_df = pd.read_csv(os.path.join(dataset_path, \"book_tags_cleaned.csv\"))\n",
    "books_cleaned_df = pd.read_csv(os.path.join(dataset_path, \"books_cleaned.csv\"))"
   ]
  },
  {
   "cell_type": "code",
   "execution_count": 133,
   "metadata": {
    "tags": []
   },
   "outputs": [],
   "source": [
    "# Mapping from book_id to isbn\n",
    "book_id_to_isbn = dict()\n",
    "for _, row in books_cleaned_df[['book_id', 'isbn']].iterrows():\n",
    "    book_id_to_isbn[row['book_id']] = row['isbn']"
   ]
  },
  {
   "cell_type": "code",
   "execution_count": 115,
   "metadata": {},
   "outputs": [],
   "source": [
    "# Drop rows where book_id has no isbn\n",
    "book_tags_cleaned_df = book_tags_cleaned_df[book_tags_cleaned_df['book_id'].isin(book_id_to_isbn.keys())]"
   ]
  },
  {
   "cell_type": "code",
   "execution_count": 117,
   "metadata": {},
   "outputs": [],
   "source": [
    "# Add isbn column\n",
    "book_tags_cleaned_df['isbn'] = book_tags_cleaned_df['book_id'].apply(lambda x: book_id_to_isbn[x])"
   ]
  },
  {
   "cell_type": "code",
   "execution_count": 121,
   "metadata": {},
   "outputs": [],
   "source": [
    "# Drop book_id column\n",
    "book_tags_cleaned_df.drop(columns=['book_id'], inplace=True)"
   ]
  },
  {
   "cell_type": "code",
   "execution_count": 130,
   "metadata": {},
   "outputs": [],
   "source": [
    "# Get list of ISBN for books that do not have their tags in book_tags_cleaned\n",
    "books_with_tags_in_book_tags = list(book_tags_cleaned_df['isbn'].unique())\n",
    "books_with_tags_in_books = list(books_df['isbn'])"
   ]
  },
  {
   "cell_type": "code",
   "execution_count": 132,
   "metadata": {},
   "outputs": [],
   "source": [
    "# ISBN of books in books but not in book_tags\n",
    "isbn_of_books_with_missing_tags = set(books_with_tags_in_books) - set(books_with_tags_in_book_tags)"
   ]
  },
  {
   "cell_type": "code",
   "execution_count": 140,
   "metadata": {},
   "outputs": [],
   "source": [
    "# Get goodreads book id of books with missing tags\n",
    "goodreads_id_with_missing_tags = list(books_df[books_df['isbn'].isin(isbn_of_books_with_missing_tags)]['goodreads_book_id'])"
   ]
  },
  {
   "cell_type": "code",
   "execution_count": 164,
   "metadata": {},
   "outputs": [],
   "source": [
    "# Get old tags of books with missing tags (in book_tags_cleaned) from book_tags.csv\n",
    "goodreads_id_to_tags = book_tags_df[book_tags_df['goodreads_book_id'].isin(goodreads_id_with_missing_tags)].groupby('goodreads_book_id')['tag_id'].apply(list).to_dict()\n"
   ]
  },
  {
   "cell_type": "code",
   "execution_count": 147,
   "metadata": {},
   "outputs": [],
   "source": [
    "# Convert old tags to new tags\n",
    "tags_cleaned_df = pd.read_csv(os.path.join(dataset_path, \"tags_cleaned.csv\"))\n",
    "\n",
    "# Mapping from tag name to id (in cleaned tags)\n",
    "tag_name_to_id = dict()\n",
    "for _, row in tags_cleaned_df[['tag_name', 'tag_id']].iterrows():\n",
    "    tag_name_to_id[row['tag_name']] = row['tag_id']"
   ]
  },
  {
   "cell_type": "code",
   "execution_count": 210,
   "metadata": {},
   "outputs": [],
   "source": [
    "# Get all the tag ids for books with missing tag ids (has atleast 10 occurrences)\n",
    "from collections import defaultdict\n",
    "all_tags = defaultdict(int)\n",
    "for goodread_id, tags in goodreads_id_to_tags.items():\n",
    "    for tag in tags:\n",
    "        all_tags[tag] += 1\n",
    "\n",
    "all_tags = [key for key, val in all_tags.items() if val > 10]\n"
   ]
  },
  {
   "cell_type": "code",
   "execution_count": 218,
   "metadata": {
    "tags": []
   },
   "outputs": [
    {
     "output_type": "stream",
     "name": "stdout",
     "text": "Old tag name:to-read\ninput:\nOld tag name:favorites\ninput:\nOld tag name:fantasy\ninput:\nyou entered:fantasy\nOld tag name:currently-reading\ninput:\nOld tag name:young-adult\ninput:\nyou entered:young-adult\nOld tag name:fiction\ninput:\nyou entered:fiction\nOld tag name:magic\ninput:\nyou entered:magic\nOld tag name:owned\ninput:\nOld tag name:series\ninput:\nyou entered:series\nOld tag name:ya\ninput:\nyou entered:young-adult\nOld tag name:books-i-own\ninput:\nOld tag name:favourites\ninput:\nOld tag name:adventure\ninput:\nyou entered:adventure\nOld tag name:children\ninput:\nyou entered:children\nOld tag name:children-s-books\ninput:\nyou entered:children\nOld tag name:childrens\ninput:\nyou entered:children\nOld tag name:childhood\ninput:\nyou entered:children\nOld tag name:shelfari-favorites\ninput:\nOld tag name:sci-fi-fantasy\ninput:\nyou entered:science-fiction,fantasy\nOld tag name:classics\ninput:\nyou entered:classic\nOld tag name:favorite-books\ninput:\nOld tag name:novels\ninput:\nyou entered:novel\nOld tag name:to-buy\ninput:\nOld tag name:all-time-favorites\ninput:\nOld tag name:default\ninput:\nOld tag name:my-books\ninput:\nOld tag name:teen\ninput:\nyou entered:teen\nOld tag name:mystery\ninput:\nyou entered:mystery\nOld tag name:children-s\ninput:\nyou entered:children\nOld tag name:i-own\ninput:\nOld tag name:5-stars\ninput:\nOld tag name:middle-grade\ninput:\nOld tag name:youth\ninput:\nOld tag name:humor\ninput:\nyou entered:funny\nOld tag name:re-read\ninput:\nOld tag name:english\ninput:\nOld tag name:books\ninput:\nOld tag name:scifi-fantasy\ninput:\nyou entered:science-fiction,fantasy\nOld tag name:read-in-2014\ninput:\nOld tag name:contemporary\ninput:\nyou entered:contemporary\nOld tag name:have\ninput:\nOld tag name:wish-list\ninput:\nOld tag name:classic\ninput:\nyou entered:classic\nOld tag name:recommended\ninput:\nOld tag name:science-fiction\ninput:\nyou entered:science-fiction\nOld tag name:action\ninput:\nyou entered:action\nOld tag name:funny\ninput:\nyou entered:funny\nOld tag name:middle-school\ninput:\nyou entered:school\nOld tag name:literature\ninput:\nyou entered:literature\nOld tag name:book-club\ninput:\nOld tag name:american\ninput:\nyou entered:american\nOld tag name:abandoned\ninput:\nOld tag name:owned-books\ninput:\nOld tag name:novel\ninput:\nyou entered:novel\nOld tag name:general-fiction\ninput:\nyou entered:fiction\nOld tag name:audiobooks\ninput:\nOld tag name:library\ninput:\nOld tag name:adult-fiction\ninput:\nyou entered:adult,fiction\nOld tag name:audio\ninput:\nOld tag name:did-not-finish\ninput:\nOld tag name:audiobook\ninput:\nOld tag name:my-library\ninput:\nOld tag name:didn-t-finish\ninput:\nOld tag name:adult\ninput:\nyou entered:adult\nOld tag name:drama\ninput:\nyou entered:drama\nOld tag name:realistic-fiction\ninput:\nnot valid. Retryinput:\nyou entered:realistic\nOld tag name:own-it\ninput:\nOld tag name:audible\ninput:\nOld tag name:school\ninput:\nyou entered:school\nOld tag name:audio-book\ninput:\nOld tag name:finished\ninput:\nOld tag name:women\ninput:\nyou entered:women\nOld tag name:kindle\ninput:\nOld tag name:bookshelf\ninput:\nOld tag name:unfinished\ninput:\nOld tag name:dnf\ninput:\nOld tag name:relationships\ninput:\nnot valid. Retryinput:\nyou entered:relationships\nOld tag name:romance\ninput:\nyou entered:romance\nOld tag name:audio-books\ninput:\nOld tag name:read-in-2012\ninput:\nOld tag name:reviewed\ninput:\nOld tag name:unread\ninput:\nOld tag name:philosophy\ninput:\nyou entered:philosophy\nOld tag name:history\ninput:\nyou entered:history\nOld tag name:home-library\ninput:\nOld tag name:historical\ninput:\nnot valid. Retryinput:\nyou entered:history\nOld tag name:historical-fiction\ninput:\nyou entered:historical-fiction\nOld tag name:non-fiction\ninput:\nyou entered:non-fiction\nOld tag name:ebooks\ninput:\nOld tag name:personal-library\ninput:\nOld tag name:read-in-2015\ninput:\nOld tag name:read-in-2016\ninput:\nOld tag name:religion\ninput:\nyou entered:religion\nOld tag name:nonfiction\ninput:\nyou entered:non-fiction\nOld tag name:self-help\ninput:\nyou entered:self-help\nOld tag name:family\ninput:\nyou entered:family\nOld tag name:borrowed\ninput:\nOld tag name:paperback\ninput:\nOld tag name:read-in-2013\ninput:\nOld tag name:ebook\ninput:\nOld tag name:shelfari-wishlist\ninput:\nOld tag name:favorite\ninput:\nOld tag name:maybe\ninput:\nOld tag name:want-to-read\ninput:\nOld tag name:own-to-read\ninput:\nOld tag name:read-in-2010\ninput:\nOld tag name:kindle-books\ninput:\nOld tag name:kids\ninput:\nyou entered:children\nOld tag name:childrens-books\ninput:\nOld tag name:kids-books\ninput:\nOld tag name:children-s-literature\ninput:\nOld tag name:children-books\ninput:\nOld tag name:kid-books\ninput:\nOld tag name:children-s-lit\ninput:\nOld tag name:childhood-books\ninput:\nOld tag name:childrens-lit\ninput:\nOld tag name:childhood-favorites\ninput:\nOld tag name:juvenile\ninput:\nyou entered:juvenile\nOld tag name:childhood-reads\ninput:\nOld tag name:animals\ninput:\nyou entered:animals\nOld tag name:my-childhood\ninput:\nOld tag name:graphic-novels\ninput:\nyou entered:graphic-novel\nOld tag name:graphic-novel\ninput:\nyou entered:graphic-novel\nOld tag name:comics\ninput:\nyou entered:comic\nOld tag name:biography\ninput:\nyou entered:biography\nOld tag name:memoirs\ninput:\nyou entered:memoir\nOld tag name:humour\ninput:\nyou entered:funny\nOld tag name:biographies\ninput:\nyou entered:biography\nOld tag name:library-books\ninput:\nOld tag name:read-2012\ninput:\nOld tag name:library-book\ninput:\nOld tag name:non-fic\ninput:\nyou entered:non-fiction\nOld tag name:reread\ninput:\nOld tag name:read-2014\ninput:\nOld tag name:read-in-2011\ninput:\nOld tag name:e-book\ninput:\nOld tag name:e-books\ninput:\nOld tag name:read-2016\ninput:\nOld tag name:fantasy-sci-fi\ninput:\nyou entered:fantasy,science-fiction\nOld tag name:children-s-fiction\ninput:\nyou entered:children,fiction\nOld tag name:favorite-authors\ninput:\nOld tag name:reference\ninput:\nOld tag name:chick-lit\ninput:\nyou entered:chick-lit\nOld tag name:nook\ninput:\nOld tag name:juvenile-fiction\ninput:\nyou entered:juvenile,fiction\nOld tag name:comedy\ninput:\nyou entered:funny\nOld tag name:sci-fi\ninput:\nyou entered:science-fiction\nOld tag name:art\ninput:\nyou entered:art\nOld tag name:suspense\ninput:\nyou entered:suspense\nOld tag name:calibre\ninput:\nOld tag name:read-2011\ninput:\nOld tag name:4-stars\ninput:\nOld tag name:books-i-have\ninput:\n"
    }
   ],
   "source": [
    "# old tag id to tag name\n",
    "old_tag_id_to_new = dict()\n",
    "\n",
    "for tag_id in all_tags:\n",
    "    tag_name = tags_df[tags_df['tag_id'] == tag_id]['tag_name'].values[0]\n",
    "    # Rename tag_name\n",
    "    print('Old tag name:', tag_name)\n",
    "\n",
    "    # If tag_name is in tag_name_to_id, we add (tag_id, tag_name_to_id[tag_name]) to a dict\n",
    "    while True:\n",
    "        print('input: ', end='')\n",
    "        user_input = input()\n",
    "        print()\n",
    "        if user_input == '':\n",
    "            break\n",
    "        candidates = user_input.split(',')\n",
    "        if set(candidates).intersection(tag_name_to_id.keys()) == set(candidates):\n",
    "            print('you entered:', user_input)\n",
    "            old_tag_id_to_new[tag_id] = [tag_name_to_id[c] for c in candidates]\n",
    "            break\n",
    "        print('not valid. Retry ', end=' ')\n",
    "\n",
    "\n"
   ]
  },
  {
   "cell_type": "code",
   "execution_count": 233,
   "metadata": {
    "tags": []
   },
   "outputs": [],
   "source": [
    "\n",
    "# Mapping from goodreads_book_id to isbn\n",
    "goodreads_book_id_to_isbn = dict()\n",
    "for _, row in books_df[['goodreads_book_id', 'isbn']].iterrows():\n",
    "    goodreads_book_id_to_isbn[row['goodreads_book_id']] = row['isbn']\n",
    "\n",
    "#  Get new tag ids for books missing tags\n",
    "isbn_id_to_tags_new = dict()\n",
    "for goodreads_book_id, tags in goodreads_id_to_tags.items():\n",
    "    isbn_id_to_tags_new[goodreads_book_id_to_isbn[goodreads_book_id]] = list(set([item for sublist in [old_tag_id_to_new[tag] for tag in tags if tag in old_tag_id_to_new] for item in sublist]))"
   ]
  },
  {
   "cell_type": "code",
   "execution_count": 240,
   "metadata": {},
   "outputs": [],
   "source": [
    "new_tag_ids = []\n",
    "new_isbn = []\n",
    "for k, values in isbn_id_to_tags_new.items():\n",
    "    for v in values:\n",
    "        new_isbn.append(k)\n",
    "        new_tag_ids.append(v)\n"
   ]
  },
  {
   "cell_type": "code",
   "execution_count": 241,
   "metadata": {},
   "outputs": [
    {
     "output_type": "execute_result",
     "data": {
      "text/plain": "     tag_id       isbn\n0        32  439682584\n1        33  439682584\n2         3  439682584\n3         5  439682584\n4         6  439682584\n..      ...        ...\n886      51   62415832\n887      21   62415832\n888      24   62415832\n889      26   62415832\n890      59   62415832\n\n[891 rows x 2 columns]",
      "text/html": "<div>\n<style scoped>\n    .dataframe tbody tr th:only-of-type {\n        vertical-align: middle;\n    }\n\n    .dataframe tbody tr th {\n        vertical-align: top;\n    }\n\n    .dataframe thead th {\n        text-align: right;\n    }\n</style>\n<table border=\"1\" class=\"dataframe\">\n  <thead>\n    <tr style=\"text-align: right;\">\n      <th></th>\n      <th>tag_id</th>\n      <th>isbn</th>\n    </tr>\n  </thead>\n  <tbody>\n    <tr>\n      <td>0</td>\n      <td>32</td>\n      <td>439682584</td>\n    </tr>\n    <tr>\n      <td>1</td>\n      <td>33</td>\n      <td>439682584</td>\n    </tr>\n    <tr>\n      <td>2</td>\n      <td>3</td>\n      <td>439682584</td>\n    </tr>\n    <tr>\n      <td>3</td>\n      <td>5</td>\n      <td>439682584</td>\n    </tr>\n    <tr>\n      <td>4</td>\n      <td>6</td>\n      <td>439682584</td>\n    </tr>\n    <tr>\n      <td>...</td>\n      <td>...</td>\n      <td>...</td>\n    </tr>\n    <tr>\n      <td>886</td>\n      <td>51</td>\n      <td>62415832</td>\n    </tr>\n    <tr>\n      <td>887</td>\n      <td>21</td>\n      <td>62415832</td>\n    </tr>\n    <tr>\n      <td>888</td>\n      <td>24</td>\n      <td>62415832</td>\n    </tr>\n    <tr>\n      <td>889</td>\n      <td>26</td>\n      <td>62415832</td>\n    </tr>\n    <tr>\n      <td>890</td>\n      <td>59</td>\n      <td>62415832</td>\n    </tr>\n  </tbody>\n</table>\n<p>891 rows × 2 columns</p>\n</div>"
     },
     "metadata": {},
     "execution_count": 241
    }
   ],
   "source": [
    "additional_book_tags_df = pd.DataFrame(list(zip(new_tag_ids, new_isbn)), columns=['tag_id', 'isbn']) \n",
    "additional_book_tags_df"
   ]
  },
  {
   "cell_type": "code",
   "execution_count": 242,
   "metadata": {},
   "outputs": [
    {
     "output_type": "execute_result",
     "data": {
      "text/plain": "        tag_id       isbn\n0            0  439785960\n1            9  439785960\n2            1  439785960\n3           13  439785960\n4            3  439785960\n...        ...        ...\n210087      14   62498533\n210088       5   62498533\n210089      10   62498533\n210090      65   62498533\n210091      15   62498533\n\n[187142 rows x 2 columns]",
      "text/html": "<div>\n<style scoped>\n    .dataframe tbody tr th:only-of-type {\n        vertical-align: middle;\n    }\n\n    .dataframe tbody tr th {\n        vertical-align: top;\n    }\n\n    .dataframe thead th {\n        text-align: right;\n    }\n</style>\n<table border=\"1\" class=\"dataframe\">\n  <thead>\n    <tr style=\"text-align: right;\">\n      <th></th>\n      <th>tag_id</th>\n      <th>isbn</th>\n    </tr>\n  </thead>\n  <tbody>\n    <tr>\n      <td>0</td>\n      <td>0</td>\n      <td>439785960</td>\n    </tr>\n    <tr>\n      <td>1</td>\n      <td>9</td>\n      <td>439785960</td>\n    </tr>\n    <tr>\n      <td>2</td>\n      <td>1</td>\n      <td>439785960</td>\n    </tr>\n    <tr>\n      <td>3</td>\n      <td>13</td>\n      <td>439785960</td>\n    </tr>\n    <tr>\n      <td>4</td>\n      <td>3</td>\n      <td>439785960</td>\n    </tr>\n    <tr>\n      <td>...</td>\n      <td>...</td>\n      <td>...</td>\n    </tr>\n    <tr>\n      <td>210087</td>\n      <td>14</td>\n      <td>62498533</td>\n    </tr>\n    <tr>\n      <td>210088</td>\n      <td>5</td>\n      <td>62498533</td>\n    </tr>\n    <tr>\n      <td>210089</td>\n      <td>10</td>\n      <td>62498533</td>\n    </tr>\n    <tr>\n      <td>210090</td>\n      <td>65</td>\n      <td>62498533</td>\n    </tr>\n    <tr>\n      <td>210091</td>\n      <td>15</td>\n      <td>62498533</td>\n    </tr>\n  </tbody>\n</table>\n<p>187142 rows × 2 columns</p>\n</div>"
     },
     "metadata": {},
     "execution_count": 242
    }
   ],
   "source": [
    "book_tags_cleaned_df"
   ]
  },
  {
   "cell_type": "code",
   "execution_count": 244,
   "metadata": {},
   "outputs": [],
   "source": [
    "final_book_tags_cleaned_df = pd.concat([book_tags_cleaned_df, additional_book_tags_df])"
   ]
  },
  {
   "cell_type": "code",
   "execution_count": 245,
   "metadata": {},
   "outputs": [],
   "source": [
    "final_book_tags_cleaned_df.to_csv('final_book_tags.csv', index=False)"
   ]
  },
  {
   "cell_type": "code",
   "execution_count": 249,
   "metadata": {},
   "outputs": [],
   "source": [
    "books_df.drop(columns=['book_id', 'goodreads_book_id', 'small_image_url']).to_csv('final_books.csv', index=False)"
   ]
  },
  {
   "cell_type": "code",
   "execution_count": 252,
   "metadata": {},
   "outputs": [],
   "source": [
    "tags_cleaned_df.to_csv('final_tags.csv', index=False)"
   ]
  },
  {
   "cell_type": "code",
   "execution_count": 253,
   "metadata": {},
   "outputs": [],
   "source": [
    "# Sanity check\n",
    "final_books = pd.read_csv('final_books.csv')\n",
    "final_book_tags = pd.read_csv('final_book_tags.csv')\n",
    "final_tags = pd.read_csv('final_tags.csv')"
   ]
  },
  {
   "cell_type": "code",
   "execution_count": 266,
   "metadata": {},
   "outputs": [],
   "source": [
    "# One last thing. Lets get rid of tags like to-read, favourites and owned.\n",
    "tag_id_to_remove = [0,1,2]  # to-read, favourites, owned\n",
    "final_book_tags = final_book_tags[~final_book_tags['tag_id'].isin(tag_id_to_remove)]\n",
    "final_tags = final_tags[~final_tags['tag_id'].isin(tag_id_to_remove)]\n",
    "\n",
    "final_book_tags.to_csv('final_book_tags.csv', index=False)\n",
    "final_tags.to_csv('final_tags.csv', index=False)"
   ]
  },
  {
   "cell_type": "code",
   "execution_count": 267,
   "metadata": {},
   "outputs": [],
   "source": [
    "# Sanity check (again)\n",
    "final_books = pd.read_csv('final_books.csv')\n",
    "final_book_tags = pd.read_csv('final_book_tags.csv')\n",
    "final_tags = pd.read_csv('final_tags.csv')"
   ]
  },
  {
   "cell_type": "code",
   "execution_count": 268,
   "metadata": {},
   "outputs": [
    {
     "output_type": "execute_result",
     "data": {
      "text/plain": "            isbn  original_publication_year  \\\n0      739326228                     1997.0   \n1      451529308                     1868.0   \n2      393978893                     1847.0   \n3      307275558                     2003.0   \n4      385338600                     1989.0   \n...          ...                        ...   \n2642   425176932                     2000.0   \n2643   312651198                     2010.0   \n2644   674017722                     1971.0   \n2645  1416523723                     1924.0   \n2646  067973371X                     1990.0   \n\n                                                  title  average_rating  \\\n0                                   Memoirs of a Geisha            4.08   \n1                       Little Women (Little Women, #1)            4.04   \n2                                     Wuthering Heights            3.82   \n3     The Devil Wears Prada (The Devil Wears Prada, #1)            3.70   \n4                                        A Time to Kill            4.03   \n...                                                 ...             ...   \n2642        Breaking Point (Tom Clancy's Net Force, #4)            3.69   \n2643  Chasing The Night (Eve Duncan, #11; Catherine ...            4.12   \n2644                                A Theory of Justice            3.91   \n2645                                 Billy Budd, Sailor            3.09   \n2646  Means of Ascent (The Years of Lyndon Johnson, #2)            4.25   \n\n      ratings_count  ratings_1  ratings_2  ratings_3  ratings_4  ratings_5  \\\n0           1300209      23500      59033     258700     517157     559782   \n1           1257121      31645      70011     250794     426280     535563   \n2            899195      46469      84084     215320     309180     346082   \n3            665930      24231      58323     192366     226675     178250   \n4            597775      12106      25938     122675     218617     229488   \n...             ...        ...        ...        ...        ...        ...   \n2642           7693        268        684       2349       2456       2068   \n2643          10129        113        331       2127       3957       4436   \n2644           8472        234        607       2001       3171       3095   \n2645          10866       1478       2225       3805       2985       1617   \n2646          12582        303        551       1737       3389       6972   \n\n                                              image_url             author  \\\n0     https://s.gr-assets.com/assets/nophoto/book/11...      Arthur Golden   \n1     https://s.gr-assets.com/assets/nophoto/book/11...  Louisa May Alcott   \n2     https://s.gr-assets.com/assets/nophoto/book/11...       Emily Brontë   \n3     https://s.gr-assets.com/assets/nophoto/book/11...  Lauren Weisberger   \n4     https://s.gr-assets.com/assets/nophoto/book/11...       John Grisham   \n...                                                 ...                ...   \n2642  https://s.gr-assets.com/assets/nophoto/book/11...        Steve Perry   \n2643  https://s.gr-assets.com/assets/nophoto/book/11...      Iris Johansen   \n2644  https://s.gr-assets.com/assets/nophoto/book/11...         John Rawls   \n2645  https://s.gr-assets.com/assets/nophoto/book/11...    Herman Melville   \n2646  https://s.gr-assets.com/assets/nophoto/book/11...     Robert A. Caro   \n\n                                            description  page_count  \n0     A literary sensation and runaway bestseller, t...         434  \n1     Generations of readers young and old, male and...         449  \n2     This best-selling Norton Critical Edition is b...         464  \n3     A delightfully dishy novel about the all-time ...         432  \n4     Before The Firm and The Pelican Brief made him...         515  \n...                                                 ...         ...  \n2642  In the year 2000, computers are the new superp...         368  \n2643  A CIA agent's two-year-old child was stolen in...         362  \n2644  Since it appeared in 1971, John Rawls's A Theo...         824  \n2645  A handsome young sailor is unjustly accused of...         160  \n2646  Robert A. Caro's life of Lyndon Johnson, which...         592  \n\n[2647 rows x 14 columns]",
      "text/html": "<div>\n<style scoped>\n    .dataframe tbody tr th:only-of-type {\n        vertical-align: middle;\n    }\n\n    .dataframe tbody tr th {\n        vertical-align: top;\n    }\n\n    .dataframe thead th {\n        text-align: right;\n    }\n</style>\n<table border=\"1\" class=\"dataframe\">\n  <thead>\n    <tr style=\"text-align: right;\">\n      <th></th>\n      <th>isbn</th>\n      <th>original_publication_year</th>\n      <th>title</th>\n      <th>average_rating</th>\n      <th>ratings_count</th>\n      <th>ratings_1</th>\n      <th>ratings_2</th>\n      <th>ratings_3</th>\n      <th>ratings_4</th>\n      <th>ratings_5</th>\n      <th>image_url</th>\n      <th>author</th>\n      <th>description</th>\n      <th>page_count</th>\n    </tr>\n  </thead>\n  <tbody>\n    <tr>\n      <td>0</td>\n      <td>739326228</td>\n      <td>1997.0</td>\n      <td>Memoirs of a Geisha</td>\n      <td>4.08</td>\n      <td>1300209</td>\n      <td>23500</td>\n      <td>59033</td>\n      <td>258700</td>\n      <td>517157</td>\n      <td>559782</td>\n      <td>https://s.gr-assets.com/assets/nophoto/book/11...</td>\n      <td>Arthur Golden</td>\n      <td>A literary sensation and runaway bestseller, t...</td>\n      <td>434</td>\n    </tr>\n    <tr>\n      <td>1</td>\n      <td>451529308</td>\n      <td>1868.0</td>\n      <td>Little Women (Little Women, #1)</td>\n      <td>4.04</td>\n      <td>1257121</td>\n      <td>31645</td>\n      <td>70011</td>\n      <td>250794</td>\n      <td>426280</td>\n      <td>535563</td>\n      <td>https://s.gr-assets.com/assets/nophoto/book/11...</td>\n      <td>Louisa May Alcott</td>\n      <td>Generations of readers young and old, male and...</td>\n      <td>449</td>\n    </tr>\n    <tr>\n      <td>2</td>\n      <td>393978893</td>\n      <td>1847.0</td>\n      <td>Wuthering Heights</td>\n      <td>3.82</td>\n      <td>899195</td>\n      <td>46469</td>\n      <td>84084</td>\n      <td>215320</td>\n      <td>309180</td>\n      <td>346082</td>\n      <td>https://s.gr-assets.com/assets/nophoto/book/11...</td>\n      <td>Emily Brontë</td>\n      <td>This best-selling Norton Critical Edition is b...</td>\n      <td>464</td>\n    </tr>\n    <tr>\n      <td>3</td>\n      <td>307275558</td>\n      <td>2003.0</td>\n      <td>The Devil Wears Prada (The Devil Wears Prada, #1)</td>\n      <td>3.70</td>\n      <td>665930</td>\n      <td>24231</td>\n      <td>58323</td>\n      <td>192366</td>\n      <td>226675</td>\n      <td>178250</td>\n      <td>https://s.gr-assets.com/assets/nophoto/book/11...</td>\n      <td>Lauren Weisberger</td>\n      <td>A delightfully dishy novel about the all-time ...</td>\n      <td>432</td>\n    </tr>\n    <tr>\n      <td>4</td>\n      <td>385338600</td>\n      <td>1989.0</td>\n      <td>A Time to Kill</td>\n      <td>4.03</td>\n      <td>597775</td>\n      <td>12106</td>\n      <td>25938</td>\n      <td>122675</td>\n      <td>218617</td>\n      <td>229488</td>\n      <td>https://s.gr-assets.com/assets/nophoto/book/11...</td>\n      <td>John Grisham</td>\n      <td>Before The Firm and The Pelican Brief made him...</td>\n      <td>515</td>\n    </tr>\n    <tr>\n      <td>...</td>\n      <td>...</td>\n      <td>...</td>\n      <td>...</td>\n      <td>...</td>\n      <td>...</td>\n      <td>...</td>\n      <td>...</td>\n      <td>...</td>\n      <td>...</td>\n      <td>...</td>\n      <td>...</td>\n      <td>...</td>\n      <td>...</td>\n      <td>...</td>\n    </tr>\n    <tr>\n      <td>2642</td>\n      <td>425176932</td>\n      <td>2000.0</td>\n      <td>Breaking Point (Tom Clancy's Net Force, #4)</td>\n      <td>3.69</td>\n      <td>7693</td>\n      <td>268</td>\n      <td>684</td>\n      <td>2349</td>\n      <td>2456</td>\n      <td>2068</td>\n      <td>https://s.gr-assets.com/assets/nophoto/book/11...</td>\n      <td>Steve Perry</td>\n      <td>In the year 2000, computers are the new superp...</td>\n      <td>368</td>\n    </tr>\n    <tr>\n      <td>2643</td>\n      <td>312651198</td>\n      <td>2010.0</td>\n      <td>Chasing The Night (Eve Duncan, #11; Catherine ...</td>\n      <td>4.12</td>\n      <td>10129</td>\n      <td>113</td>\n      <td>331</td>\n      <td>2127</td>\n      <td>3957</td>\n      <td>4436</td>\n      <td>https://s.gr-assets.com/assets/nophoto/book/11...</td>\n      <td>Iris Johansen</td>\n      <td>A CIA agent's two-year-old child was stolen in...</td>\n      <td>362</td>\n    </tr>\n    <tr>\n      <td>2644</td>\n      <td>674017722</td>\n      <td>1971.0</td>\n      <td>A Theory of Justice</td>\n      <td>3.91</td>\n      <td>8472</td>\n      <td>234</td>\n      <td>607</td>\n      <td>2001</td>\n      <td>3171</td>\n      <td>3095</td>\n      <td>https://s.gr-assets.com/assets/nophoto/book/11...</td>\n      <td>John Rawls</td>\n      <td>Since it appeared in 1971, John Rawls's A Theo...</td>\n      <td>824</td>\n    </tr>\n    <tr>\n      <td>2645</td>\n      <td>1416523723</td>\n      <td>1924.0</td>\n      <td>Billy Budd, Sailor</td>\n      <td>3.09</td>\n      <td>10866</td>\n      <td>1478</td>\n      <td>2225</td>\n      <td>3805</td>\n      <td>2985</td>\n      <td>1617</td>\n      <td>https://s.gr-assets.com/assets/nophoto/book/11...</td>\n      <td>Herman Melville</td>\n      <td>A handsome young sailor is unjustly accused of...</td>\n      <td>160</td>\n    </tr>\n    <tr>\n      <td>2646</td>\n      <td>067973371X</td>\n      <td>1990.0</td>\n      <td>Means of Ascent (The Years of Lyndon Johnson, #2)</td>\n      <td>4.25</td>\n      <td>12582</td>\n      <td>303</td>\n      <td>551</td>\n      <td>1737</td>\n      <td>3389</td>\n      <td>6972</td>\n      <td>https://s.gr-assets.com/assets/nophoto/book/11...</td>\n      <td>Robert A. Caro</td>\n      <td>Robert A. Caro's life of Lyndon Johnson, which...</td>\n      <td>592</td>\n    </tr>\n  </tbody>\n</table>\n<p>2647 rows × 14 columns</p>\n</div>"
     },
     "metadata": {},
     "execution_count": 268
    }
   ],
   "source": [
    "final_books"
   ]
  },
  {
   "cell_type": "code",
   "execution_count": 269,
   "metadata": {},
   "outputs": [
    {
     "output_type": "execute_result",
     "data": {
      "text/plain": "         tag_name  tag_id\n0         fiction       3\n1           adult       4\n2           novel       5\n3    contemporary       6\n4          series       7\n..            ...     ...\n137        aliens     140\n138       dragons     141\n139        police     142\n140          smut     143\n141   male-author     144\n\n[142 rows x 2 columns]",
      "text/html": "<div>\n<style scoped>\n    .dataframe tbody tr th:only-of-type {\n        vertical-align: middle;\n    }\n\n    .dataframe tbody tr th {\n        vertical-align: top;\n    }\n\n    .dataframe thead th {\n        text-align: right;\n    }\n</style>\n<table border=\"1\" class=\"dataframe\">\n  <thead>\n    <tr style=\"text-align: right;\">\n      <th></th>\n      <th>tag_name</th>\n      <th>tag_id</th>\n    </tr>\n  </thead>\n  <tbody>\n    <tr>\n      <td>0</td>\n      <td>fiction</td>\n      <td>3</td>\n    </tr>\n    <tr>\n      <td>1</td>\n      <td>adult</td>\n      <td>4</td>\n    </tr>\n    <tr>\n      <td>2</td>\n      <td>novel</td>\n      <td>5</td>\n    </tr>\n    <tr>\n      <td>3</td>\n      <td>contemporary</td>\n      <td>6</td>\n    </tr>\n    <tr>\n      <td>4</td>\n      <td>series</td>\n      <td>7</td>\n    </tr>\n    <tr>\n      <td>...</td>\n      <td>...</td>\n      <td>...</td>\n    </tr>\n    <tr>\n      <td>137</td>\n      <td>aliens</td>\n      <td>140</td>\n    </tr>\n    <tr>\n      <td>138</td>\n      <td>dragons</td>\n      <td>141</td>\n    </tr>\n    <tr>\n      <td>139</td>\n      <td>police</td>\n      <td>142</td>\n    </tr>\n    <tr>\n      <td>140</td>\n      <td>smut</td>\n      <td>143</td>\n    </tr>\n    <tr>\n      <td>141</td>\n      <td>male-author</td>\n      <td>144</td>\n    </tr>\n  </tbody>\n</table>\n<p>142 rows × 2 columns</p>\n</div>"
     },
     "metadata": {},
     "execution_count": 269
    }
   ],
   "source": [
    "final_tags"
   ]
  },
  {
   "cell_type": "code",
   "execution_count": 270,
   "metadata": {},
   "outputs": [
    {
     "output_type": "execute_result",
     "data": {
      "text/plain": "        tag_id       isbn\n0            9  439785960\n1           13  439785960\n2            3  439785960\n3            7  439785960\n4           32  439785960\n...        ...        ...\n161572      51   62415832\n161573      21   62415832\n161574      24   62415832\n161575      26   62415832\n161576      59   62415832\n\n[161577 rows x 2 columns]",
      "text/html": "<div>\n<style scoped>\n    .dataframe tbody tr th:only-of-type {\n        vertical-align: middle;\n    }\n\n    .dataframe tbody tr th {\n        vertical-align: top;\n    }\n\n    .dataframe thead th {\n        text-align: right;\n    }\n</style>\n<table border=\"1\" class=\"dataframe\">\n  <thead>\n    <tr style=\"text-align: right;\">\n      <th></th>\n      <th>tag_id</th>\n      <th>isbn</th>\n    </tr>\n  </thead>\n  <tbody>\n    <tr>\n      <td>0</td>\n      <td>9</td>\n      <td>439785960</td>\n    </tr>\n    <tr>\n      <td>1</td>\n      <td>13</td>\n      <td>439785960</td>\n    </tr>\n    <tr>\n      <td>2</td>\n      <td>3</td>\n      <td>439785960</td>\n    </tr>\n    <tr>\n      <td>3</td>\n      <td>7</td>\n      <td>439785960</td>\n    </tr>\n    <tr>\n      <td>4</td>\n      <td>32</td>\n      <td>439785960</td>\n    </tr>\n    <tr>\n      <td>...</td>\n      <td>...</td>\n      <td>...</td>\n    </tr>\n    <tr>\n      <td>161572</td>\n      <td>51</td>\n      <td>62415832</td>\n    </tr>\n    <tr>\n      <td>161573</td>\n      <td>21</td>\n      <td>62415832</td>\n    </tr>\n    <tr>\n      <td>161574</td>\n      <td>24</td>\n      <td>62415832</td>\n    </tr>\n    <tr>\n      <td>161575</td>\n      <td>26</td>\n      <td>62415832</td>\n    </tr>\n    <tr>\n      <td>161576</td>\n      <td>59</td>\n      <td>62415832</td>\n    </tr>\n  </tbody>\n</table>\n<p>161577 rows × 2 columns</p>\n</div>"
     },
     "metadata": {},
     "execution_count": 270
    }
   ],
   "source": [
    "final_book_tags"
   ]
  },
  {
   "cell_type": "code",
   "execution_count": null,
   "metadata": {},
   "outputs": [],
   "source": []
  }
 ]
}